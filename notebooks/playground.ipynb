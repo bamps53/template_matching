{
 "cells": [
  {
   "cell_type": "code",
   "execution_count": 1,
   "metadata": {},
   "outputs": [],
   "source": [
    "import sys\n",
    "sys.path.insert(0, '../src')\n",
    "sys.path.insert(0, '../')"
   ]
  },
  {
   "cell_type": "code",
   "execution_count": 2,
   "metadata": {},
   "outputs": [],
   "source": [
    "import torch\n",
    "from models.resnet import ResNet\n",
    "\n",
    "backbone = ResNet(\n",
    "    depth=50,\n",
    "    num_stages=4,\n",
    "    out_indices=(0, 1, 2, 3, ),\n",
    "    style='pytorch')\n",
    "\n",
    "backbone_state_dict = torch.load('../models/backbone.pth')\n",
    "backbone.load_state_dict(backbone_state_dict)"
   ]
  },
  {
   "cell_type": "code",
   "execution_count": 3,
   "metadata": {},
   "outputs": [
    {
     "data": {
      "text/plain": [
       "<All keys matched successfully>"
      ]
     },
     "execution_count": 3,
     "metadata": {},
     "output_type": "execute_result"
    }
   ],
   "source": []
  },
  {
   "cell_type": "code",
   "execution_count": 1,
   "metadata": {},
   "outputs": [],
   "source": [
    "import sys\n",
    "sys.path.insert(0, '../src')\n",
    "sys.path.insert(0, '../')"
   ]
  },
  {
   "cell_type": "code",
   "execution_count": 10,
   "metadata": {},
   "outputs": [
    {
     "name": "stdout",
     "output_type": "stream",
     "text": [
      "Running for C8!\n",
      "Discrete_Quad_L2Net_ConfCFS(\n",
      "  (block1): SequentialModule(\n",
      "    (0): R2Conv([C8_on_R2[(None, 8)]: {irrep_0 (x3)}(3)], [C8_on_R2[(None, 8)]: {regular (x16)}(128)], kernel_size=3, stride=1, padding=1)\n",
      "    (1): IIDBatchNorm2d([C8_on_R2[(None, 8)]: {regular (x16)}(128)], eps=1e-05, momentum=0.1, affine=False, track_running_stats=True)\n",
      "    (2): ReLU(inplace=True, type=[C8_on_R2[(None, 8)]: {regular (x16)}(128)])\n",
      "  )\n",
      "  (block2): SequentialModule(\n",
      "    (0): R2Conv([C8_on_R2[(None, 8)]: {regular (x16)}(128)], [C8_on_R2[(None, 8)]: {regular (x16)}(128)], kernel_size=3, stride=1, padding=1)\n",
      "    (1): IIDBatchNorm2d([C8_on_R2[(None, 8)]: {regular (x16)}(128)], eps=1e-05, momentum=0.1, affine=False, track_running_stats=True)\n",
      "    (2): ReLU(inplace=True, type=[C8_on_R2[(None, 8)]: {regular (x16)}(128)])\n",
      "  )\n",
      "  (block_extra): SequentialModule(\n",
      "    (0): R2Conv([C8_on_R2[(None, 8)]: {regular (x16)}(128)], [C8_on_R2[(None, 8)]: {regular (x16)}(128)], kernel_size=3, stride=1, padding=1)\n",
      "    (1): IIDBatchNorm2d([C8_on_R2[(None, 8)]: {regular (x16)}(128)], eps=1e-05, momentum=0.1, affine=False, track_running_stats=True)\n",
      "    (2): ReLU(inplace=True, type=[C8_on_R2[(None, 8)]: {regular (x16)}(128)])\n",
      "  )\n",
      "  (block3): SequentialModule(\n",
      "    (0): R2Conv([C8_on_R2[(None, 8)]: {regular (x16)}(128)], [C8_on_R2[(None, 8)]: {regular (x16)}(128)], kernel_size=3, stride=1, padding=2, dilation=2)\n",
      "    (1): IIDBatchNorm2d([C8_on_R2[(None, 8)]: {regular (x16)}(128)], eps=1e-05, momentum=0.1, affine=False, track_running_stats=True)\n",
      "    (2): ReLU(inplace=True, type=[C8_on_R2[(None, 8)]: {regular (x16)}(128)])\n",
      "  )\n",
      "  (block5): SequentialModule(\n",
      "    (0): R2Conv([C8_on_R2[(None, 8)]: {regular (x16)}(128)], [C8_on_R2[(None, 8)]: {regular (x32)}(256)], kernel_size=3, stride=1, padding=2, dilation=2)\n",
      "    (1): IIDBatchNorm2d([C8_on_R2[(None, 8)]: {regular (x32)}(256)], eps=1e-05, momentum=0.1, affine=False, track_running_stats=True)\n",
      "    (2): ReLU(inplace=True, type=[C8_on_R2[(None, 8)]: {regular (x32)}(256)])\n",
      "  )\n",
      "  (block6): SequentialModule(\n",
      "    (0): R2Conv([C8_on_R2[(None, 8)]: {regular (x32)}(256)], [C8_on_R2[(None, 8)]: {regular (x64)}(512)], kernel_size=3, stride=1, padding=4, dilation=4)\n",
      "    (1): IIDBatchNorm2d([C8_on_R2[(None, 8)]: {regular (x64)}(512)], eps=1e-05, momentum=0.1, affine=False, track_running_stats=True)\n",
      "    (2): ReLU(inplace=True, type=[C8_on_R2[(None, 8)]: {regular (x64)}(512)])\n",
      "  )\n",
      "  (block7): SequentialModule(\n",
      "    (0): R2Conv([C8_on_R2[(None, 8)]: {regular (x64)}(512)], [C8_on_R2[(None, 8)]: {regular (x128)}(1024)], kernel_size=3, stride=1, padding=2, dilation=2)\n",
      "    (1): IIDBatchNorm2d([C8_on_R2[(None, 8)]: {regular (x128)}(1024)], eps=1e-05, momentum=0.1, affine=False, track_running_stats=True)\n",
      "  )\n",
      "  (block8): SequentialModule(\n",
      "    (0): R2Conv([C8_on_R2[(None, 8)]: {regular (x128)}(1024)], [C8_on_R2[(None, 8)]: {regular (x128)}(1024)], kernel_size=3, stride=1, padding=4, dilation=4)\n",
      "  )\n",
      "  (invariant_map): R2Conv([C8_on_R2[(None, 8)]: {regular (x128)}(1024)], [C8_on_R2[(None, 8)]: {irrep_0 (x128)}(128)], kernel_size=1, stride=1, bias=False)\n",
      ")\n"
     ]
    }
   ],
   "source": [
    "from escnn import gspaces\n",
    "from models.patchnet_equivariant import Discrete_Quad_L2Net_ConfCFS\n",
    "from models.steerable_l2 import SteerableL2\n",
    "\n",
    "r2_act = gspaces.rot2dOnR2(8)\n",
    "fourier = False\n",
    "# model = SteerableL2(r2_act, fourier=fourier).to('cuda')\n",
    "model = Discrete_Quad_L2Net_ConfCFS(r2_act, fourier=fourier, num_rotations=8).to('cuda')"
   ]
  },
  {
   "cell_type": "code",
   "execution_count": 13,
   "metadata": {},
   "outputs": [
    {
     "data": {
      "text/plain": [
       "_IncompatibleKeys(missing_keys=['block1.0.expanded_bias', 'block1.0.filter', 'block2.0.expanded_bias', 'block2.0.filter', 'block_extra.0.expanded_bias', 'block_extra.0.filter', 'block3.0.expanded_bias', 'block3.0.filter', 'block5.0.expanded_bias', 'block5.0.filter', 'block6.0.expanded_bias', 'block6.0.filter', 'block7.0.expanded_bias', 'block7.0.filter', 'block8.0.expanded_bias', 'block8.0.filter', 'invariant_map.filter'], unexpected_keys=[])"
      ]
     },
     "execution_count": 13,
     "metadata": {},
     "output_type": "execute_result"
    }
   ],
   "source": [
    "import torch\n",
    "model.load_state_dict(torch.load('../models/finalmodelC8_epoch_1_4x16_1x32_1x64_2x128.pt')['state_dict'], strict=False)"
   ]
  },
  {
   "cell_type": "code",
   "execution_count": 19,
   "metadata": {},
   "outputs": [],
   "source": [
    "x = torch.zeros((1, 3, 512, 512))\n",
    "x = x.to('cuda')\n",
    "\n",
    "with torch.no_grad():\n",
    "    res = model(imgs=[x])"
   ]
  },
  {
   "cell_type": "code",
   "execution_count": 23,
   "metadata": {},
   "outputs": [
    {
     "data": {
      "text/plain": [
       "torch.Size([1, 128, 512, 512])"
      ]
     },
     "execution_count": 23,
     "metadata": {},
     "output_type": "execute_result"
    }
   ],
   "source": [
    "res['descriptors'][0].shape"
   ]
  },
  {
   "cell_type": "code",
   "execution_count": 26,
   "metadata": {},
   "outputs": [],
   "source": [
    "from escnn import nn\n",
    "r2_act = gspaces.rot2dOnR2(8)\n",
    "in_type = nn.FieldType(r2_act, [r2_act.trivial_repr]*3)\n",
    "mask = nn.MaskModule(in_type, 29, margin=1)"
   ]
  },
  {
   "cell_type": "code",
   "execution_count": 28,
   "metadata": {},
   "outputs": [
    {
     "ename": "AssertionError",
     "evalue": "",
     "output_type": "error",
     "traceback": [
      "\u001b[0;31m---------------------------------------------------------------------------\u001b[0m",
      "\u001b[0;31mAssertionError\u001b[0m                            Traceback (most recent call last)",
      "\u001b[0;32m/tmp/ipykernel_12987/833365924.py\u001b[0m in \u001b[0;36m<module>\u001b[0;34m\u001b[0m\n\u001b[1;32m      1\u001b[0m \u001b[0mx\u001b[0m \u001b[0;34m=\u001b[0m \u001b[0mtorch\u001b[0m\u001b[0;34m.\u001b[0m\u001b[0mones\u001b[0m\u001b[0;34m(\u001b[0m\u001b[0;34m(\u001b[0m\u001b[0;36m1\u001b[0m\u001b[0;34m,\u001b[0m \u001b[0;36m3\u001b[0m\u001b[0;34m,\u001b[0m \u001b[0;36m512\u001b[0m\u001b[0;34m,\u001b[0m \u001b[0;36m512\u001b[0m\u001b[0;34m)\u001b[0m\u001b[0;34m)\u001b[0m\u001b[0;34m\u001b[0m\u001b[0;34m\u001b[0m\u001b[0m\n\u001b[1;32m      2\u001b[0m \u001b[0mx\u001b[0m \u001b[0;34m=\u001b[0m \u001b[0mnn\u001b[0m\u001b[0;34m.\u001b[0m\u001b[0mGeometricTensor\u001b[0m\u001b[0;34m(\u001b[0m\u001b[0mx\u001b[0m\u001b[0;34m,\u001b[0m \u001b[0min_type\u001b[0m\u001b[0;34m)\u001b[0m\u001b[0;34m\u001b[0m\u001b[0;34m\u001b[0m\u001b[0m\n\u001b[0;32m----> 3\u001b[0;31m \u001b[0my\u001b[0m \u001b[0;34m=\u001b[0m \u001b[0mmask\u001b[0m\u001b[0;34m(\u001b[0m\u001b[0mx\u001b[0m\u001b[0;34m)\u001b[0m\u001b[0;34m\u001b[0m\u001b[0;34m\u001b[0m\u001b[0m\n\u001b[0m",
      "\u001b[0;32m/opt/conda/lib/python3.7/site-packages/torch/nn/modules/module.py\u001b[0m in \u001b[0;36m_call_impl\u001b[0;34m(self, *input, **kwargs)\u001b[0m\n\u001b[1;32m   1128\u001b[0m         if not (self._backward_hooks or self._forward_hooks or self._forward_pre_hooks or _global_backward_hooks\n\u001b[1;32m   1129\u001b[0m                 or _global_forward_hooks or _global_forward_pre_hooks):\n\u001b[0;32m-> 1130\u001b[0;31m             \u001b[0;32mreturn\u001b[0m \u001b[0mforward_call\u001b[0m\u001b[0;34m(\u001b[0m\u001b[0;34m*\u001b[0m\u001b[0minput\u001b[0m\u001b[0;34m,\u001b[0m \u001b[0;34m**\u001b[0m\u001b[0mkwargs\u001b[0m\u001b[0;34m)\u001b[0m\u001b[0;34m\u001b[0m\u001b[0;34m\u001b[0m\u001b[0m\n\u001b[0m\u001b[1;32m   1131\u001b[0m         \u001b[0;31m# Do not call functions when jit is used\u001b[0m\u001b[0;34m\u001b[0m\u001b[0;34m\u001b[0m\u001b[0;34m\u001b[0m\u001b[0m\n\u001b[1;32m   1132\u001b[0m         \u001b[0mfull_backward_hooks\u001b[0m\u001b[0;34m,\u001b[0m \u001b[0mnon_full_backward_hooks\u001b[0m \u001b[0;34m=\u001b[0m \u001b[0;34m[\u001b[0m\u001b[0;34m]\u001b[0m\u001b[0;34m,\u001b[0m \u001b[0;34m[\u001b[0m\u001b[0;34m]\u001b[0m\u001b[0;34m\u001b[0m\u001b[0;34m\u001b[0m\u001b[0m\n",
      "\u001b[0;32m/opt/conda/lib/python3.7/site-packages/escnn/nn/modules/masking_module.py\u001b[0m in \u001b[0;36mforward\u001b[0;34m(self, input)\u001b[0m\n\u001b[1;32m     68\u001b[0m         \u001b[0;32massert\u001b[0m \u001b[0minput\u001b[0m\u001b[0;34m.\u001b[0m\u001b[0mtype\u001b[0m \u001b[0;34m==\u001b[0m \u001b[0mself\u001b[0m\u001b[0;34m.\u001b[0m\u001b[0min_type\u001b[0m\u001b[0;34m\u001b[0m\u001b[0;34m\u001b[0m\u001b[0m\n\u001b[1;32m     69\u001b[0m \u001b[0;34m\u001b[0m\u001b[0m\n\u001b[0;32m---> 70\u001b[0;31m         \u001b[0;32massert\u001b[0m \u001b[0minput\u001b[0m\u001b[0;34m.\u001b[0m\u001b[0mtensor\u001b[0m\u001b[0;34m.\u001b[0m\u001b[0mshape\u001b[0m\u001b[0;34m[\u001b[0m\u001b[0;36m2\u001b[0m\u001b[0;34m:\u001b[0m\u001b[0;34m]\u001b[0m \u001b[0;34m==\u001b[0m \u001b[0mself\u001b[0m\u001b[0;34m.\u001b[0m\u001b[0mmask\u001b[0m\u001b[0;34m.\u001b[0m\u001b[0mshape\u001b[0m\u001b[0;34m[\u001b[0m\u001b[0;36m2\u001b[0m\u001b[0;34m:\u001b[0m\u001b[0;34m]\u001b[0m\u001b[0;34m\u001b[0m\u001b[0;34m\u001b[0m\u001b[0m\n\u001b[0m\u001b[1;32m     71\u001b[0m \u001b[0;34m\u001b[0m\u001b[0m\n\u001b[1;32m     72\u001b[0m         \u001b[0mout\u001b[0m \u001b[0;34m=\u001b[0m \u001b[0minput\u001b[0m\u001b[0;34m.\u001b[0m\u001b[0mtensor\u001b[0m \u001b[0;34m*\u001b[0m \u001b[0mself\u001b[0m\u001b[0;34m.\u001b[0m\u001b[0mmask\u001b[0m\u001b[0;34m\u001b[0m\u001b[0;34m\u001b[0m\u001b[0m\n",
      "\u001b[0;31mAssertionError\u001b[0m: "
     ]
    }
   ],
   "source": [
    "x = torch.ones((1, 3, 512, 512))\n",
    "x = nn.GeometricTensor(x, in_type)\n",
    "y = mask(x)"
   ]
  },
  {
   "cell_type": "code",
   "execution_count": 33,
   "metadata": {},
   "outputs": [
    {
     "data": {
      "text/plain": [
       "<matplotlib.image.AxesImage at 0x7f49371de250>"
      ]
     },
     "execution_count": 33,
     "metadata": {},
     "output_type": "execute_result"
    },
    {
     "data": {
      "image/png": "[encoded data removed]",
      "text/plain": [
       "<Figure size 640x480 with 1 Axes>"
      ]
     },
     "metadata": {},
     "output_type": "display_data"
    }
   ],
   "source": [
    "import matplotlib.pyplot as plt\n",
    "plt.imshow(mask.mask[0, 0].cpu().numpy())"
   ]
  },
  {
   "cell_type": "code",
   "execution_count": null,
   "metadata": {},
   "outputs": [],
   "source": []
  }
 ],
 "metadata": {
  "kernelspec": {
   "display_name": "base",
   "language": "python",
   "name": "python3"
  },
  "language_info": {
   "codemirror_mode": {
    "name": "ipython",
    "version": 3
   },
   "file_extension": ".py",
   "mimetype": "text/x-python",
   "name": "python",
   "nbconvert_exporter": "python",
   "pygments_lexer": "ipython3",
   "version": "3.7.12"
  },
  "orig_nbformat": 4
 },
 "nbformat": 4,
 "nbformat_minor": 2
}
