{
 "cells": [
  {
   "cell_type": "code",
   "execution_count": 3,
   "metadata": {},
   "outputs": [],
   "source": [
    "from e2cnn import gspaces                                          #  1\n",
    "from e2cnn import nn                                               #  2\n",
    "import torch                                                       #  3\n",
    "                                                                   #  4\n",
    "r2_act = gspaces.Rot2dOnR2(N=8)                                    #  5\n",
    "feat_type_in  = nn.FieldType(r2_act,  3*[r2_act.trivial_repr])     #  6\n",
    "feat_type_out = nn.FieldType(r2_act, 10*[r2_act.regular_repr])     #  7\n",
    "                                                                   #  8\n",
    "conv = nn.R2Conv(feat_type_in, feat_type_out, kernel_size=5)       #  9\n",
    "relu = nn.ReLU(feat_type_out)                                      # 10\n",
    "                                                                   # 11\n",
    "x = torch.randn(16, 3, 32, 32)                                     # 12\n",
    "x = nn.GeometricTensor(x, feat_type_in)                            # 13\n",
    "                                                                   # 14\n",
    "y = relu(conv(x))                                                  # 15"
   ]
  },
  {
   "cell_type": "code",
   "execution_count": 12,
   "metadata": {},
   "outputs": [
    {
     "data": {
      "text/plain": [
       "tensor([[[[True, True, True, True, True],\n",
       "          [True, True, True, True, True],\n",
       "          [True, True, True, True, True],\n",
       "          [True, True, True, True, True],\n",
       "          [True, True, True, True, True]],\n",
       "\n",
       "         [[True, True, True, True, True],\n",
       "          [True, True, True, True, True],\n",
       "          [True, True, True, True, True],\n",
       "          [True, True, True, True, True],\n",
       "          [True, True, True, True, True]],\n",
       "\n",
       "         [[True, True, True, True, True],\n",
       "          [True, True, True, True, True],\n",
       "          [True, True, True, True, True],\n",
       "          [True, True, True, True, True],\n",
       "          [True, True, True, True, True]]],\n",
       "\n",
       "\n",
       "        [[[True, True, True, True, True],\n",
       "          [True, True, True, True, True],\n",
       "          [True, True, True, True, True],\n",
       "          [True, True, True, True, True],\n",
       "          [True, True, True, True, True]],\n",
       "\n",
       "         [[True, True, True, True, True],\n",
       "          [True, True, True, True, True],\n",
       "          [True, True, True, True, True],\n",
       "          [True, True, True, True, True],\n",
       "          [True, True, True, True, True]],\n",
       "\n",
       "         [[True, True, True, True, True],\n",
       "          [True, True, True, True, True],\n",
       "          [True, True, True, True, True],\n",
       "          [True, True, True, True, True],\n",
       "          [True, True, True, True, True]]],\n",
       "\n",
       "\n",
       "        [[[True, True, True, True, True],\n",
       "          [True, True, True, True, True],\n",
       "          [True, True, True, True, True],\n",
       "          [True, True, True, True, True],\n",
       "          [True, True, True, True, True]],\n",
       "\n",
       "         [[True, True, True, True, True],\n",
       "          [True, True, True, True, True],\n",
       "          [True, True, True, True, True],\n",
       "          [True, True, True, True, True],\n",
       "          [True, True, True, True, True]],\n",
       "\n",
       "         [[True, True, True, True, True],\n",
       "          [True, True, True, True, True],\n",
       "          [True, True, True, True, True],\n",
       "          [True, True, True, True, True],\n",
       "          [True, True, True, True, True]]],\n",
       "\n",
       "\n",
       "        ...,\n",
       "\n",
       "\n",
       "        [[[True, True, True, True, True],\n",
       "          [True, True, True, True, True],\n",
       "          [True, True, True, True, True],\n",
       "          [True, True, True, True, True],\n",
       "          [True, True, True, True, True]],\n",
       "\n",
       "         [[True, True, True, True, True],\n",
       "          [True, True, True, True, True],\n",
       "          [True, True, True, True, True],\n",
       "          [True, True, True, True, True],\n",
       "          [True, True, True, True, True]],\n",
       "\n",
       "         [[True, True, True, True, True],\n",
       "          [True, True, True, True, True],\n",
       "          [True, True, True, True, True],\n",
       "          [True, True, True, True, True],\n",
       "          [True, True, True, True, True]]],\n",
       "\n",
       "\n",
       "        [[[True, True, True, True, True],\n",
       "          [True, True, True, True, True],\n",
       "          [True, True, True, True, True],\n",
       "          [True, True, True, True, True],\n",
       "          [True, True, True, True, True]],\n",
       "\n",
       "         [[True, True, True, True, True],\n",
       "          [True, True, True, True, True],\n",
       "          [True, True, True, True, True],\n",
       "          [True, True, True, True, True],\n",
       "          [True, True, True, True, True]],\n",
       "\n",
       "         [[True, True, True, True, True],\n",
       "          [True, True, True, True, True],\n",
       "          [True, True, True, True, True],\n",
       "          [True, True, True, True, True],\n",
       "          [True, True, True, True, True]]],\n",
       "\n",
       "\n",
       "        [[[True, True, True, True, True],\n",
       "          [True, True, True, True, True],\n",
       "          [True, True, True, True, True],\n",
       "          [True, True, True, True, True],\n",
       "          [True, True, True, True, True]],\n",
       "\n",
       "         [[True, True, True, True, True],\n",
       "          [True, True, True, True, True],\n",
       "          [True, True, True, True, True],\n",
       "          [True, True, True, True, True],\n",
       "          [True, True, True, True, True]],\n",
       "\n",
       "         [[True, True, True, True, True],\n",
       "          [True, True, True, True, True],\n",
       "          [True, True, True, True, True],\n",
       "          [True, True, True, True, True],\n",
       "          [True, True, True, True, True]]]])"
      ]
     },
     "execution_count": 12,
     "metadata": {},
     "output_type": "execute_result"
    }
   ],
   "source": [
    "conv.export().weight == conv.filter"
   ]
  },
  {
   "cell_type": "code",
   "execution_count": 9,
   "metadata": {},
   "outputs": [
    {
     "data": {
      "text/plain": [
       "torch.Size([80, 3, 5, 5])"
      ]
     },
     "execution_count": 9,
     "metadata": {},
     "output_type": "execute_result"
    }
   ],
   "source": [
    "conv.filter.shape"
   ]
  },
  {
   "cell_type": "code",
   "execution_count": null,
   "metadata": {},
   "outputs": [],
   "source": []
  }
 ],
 "metadata": {
  "kernelspec": {
   "display_name": "base",
   "language": "python",
   "name": "python3"
  },
  "language_info": {
   "codemirror_mode": {
    "name": "ipython",
    "version": 3
   },
   "file_extension": ".py",
   "mimetype": "text/x-python",
   "name": "python",
   "nbconvert_exporter": "python",
   "pygments_lexer": "ipython3",
   "version": "3.7.12"
  },
  "orig_nbformat": 4
 },
 "nbformat": 4,
 "nbformat_minor": 2
}
