{
 "cells": [
  {
   "cell_type": "code",
   "execution_count": 1,
   "metadata": {},
   "outputs": [],
   "source": [
    "import sys\n",
    "sys.path.insert(0, '../src')\n",
    "sys.path.insert(0, '../')"
   ]
  },
  {
   "cell_type": "code",
   "execution_count": 4,
   "metadata": {},
   "outputs": [
    {
     "name": "stdout",
     "output_type": "stream",
     "text": [
      "Collecting pypng\n",
      "  Downloading pypng-0.20220715.0-py3-none-any.whl (58 kB)\n",
      "\u001b[2K     \u001b[90m━━━━━━━━━━━━━━━━━━━━━━━━━━━━━━━━━━━━━━━\u001b[0m \u001b[32m58.1/58.1 kB\u001b[0m \u001b[31m964.1 kB/s\u001b[0m eta \u001b[36m0:00:00\u001b[0ma \u001b[36m0:00:01\u001b[0m\n",
      "\u001b[?25hInstalling collected packages: pypng\n",
      "Successfully installed pypng-0.20220715.0\n",
      "\u001b[33mWARNING: Running pip as the 'root' user can result in broken permissions and conflicting behaviour with the system package manager. It is recommended to use a virtual environment instead: https://pip.pypa.io/warnings/venv\u001b[0m\u001b[33m\n",
      "\u001b[0m"
     ]
    }
   ],
   "source": [
    "!pip install pypng\n",
    "# !pip install tensorflow-datasets==4.5.2"
   ]
  },
  {
   "cell_type": "code",
   "execution_count": 3,
   "metadata": {},
   "outputs": [
    {
     "ename": "ModuleNotFoundError",
     "evalue": "No module named 'png'",
     "output_type": "error",
     "traceback": [
      "\u001b[0;31m---------------------------------------------------------------------------\u001b[0m",
      "\u001b[0;31mModuleNotFoundError\u001b[0m                       Traceback (most recent call last)",
      "\u001b[0;32m/tmp/ipykernel_17938/2293679924.py\u001b[0m in \u001b[0;36m<module>\u001b[0;34m\u001b[0m\n\u001b[1;32m      2\u001b[0m \u001b[0;32mimport\u001b[0m \u001b[0mmatplotlib\u001b[0m\u001b[0;34m.\u001b[0m\u001b[0mpyplot\u001b[0m \u001b[0;32mas\u001b[0m \u001b[0mplt\u001b[0m\u001b[0;34m\u001b[0m\u001b[0;34m\u001b[0m\u001b[0m\n\u001b[1;32m      3\u001b[0m \u001b[0;34m\u001b[0m\u001b[0m\n\u001b[0;32m----> 4\u001b[0;31m \u001b[0;32mimport\u001b[0m \u001b[0mpng\u001b[0m\u001b[0;34m\u001b[0m\u001b[0;34m\u001b[0m\u001b[0m\n\u001b[0m\u001b[1;32m      5\u001b[0m \u001b[0;32mimport\u001b[0m \u001b[0mnumpy\u001b[0m \u001b[0;32mas\u001b[0m \u001b[0mnp\u001b[0m\u001b[0;34m\u001b[0m\u001b[0;34m\u001b[0m\u001b[0m\n\u001b[1;32m      6\u001b[0m \u001b[0;34m\u001b[0m\u001b[0m\n",
      "\u001b[0;31mModuleNotFoundError\u001b[0m: No module named 'png'"
     ]
    }
   ],
   "source": [
    "import cv2\n",
    "import matplotlib.pyplot as plt\n",
    "\n",
    "import png\n",
    "import numpy as np\n",
    "\n",
    "import tensorflow as tf\n",
    "import tensorflow_datasets.public_api as tfds\n",
    "\n",
    "def as_path(path) -> tfds.core.ReadWritePath:\n",
    "  \"\"\"Convert str or pathlike object to tfds.core.ReadWritePath.\n",
    "\n",
    "  Instead of pathlib.Paths, we use the TFDS path because they transparently\n",
    "  support paths to GCS buckets such as \"gs://kubric-public/GSO\".\n",
    "  \"\"\"\n",
    "  return tfds.core.as_path(path)\n",
    "\n",
    "def read_png(filename, rescale_range=None) -> np.ndarray:\n",
    "  filename = as_path(filename)\n",
    "  png_reader = png.Reader(bytes=filename.read_bytes())\n",
    "  width, height, pngdata, info = png_reader.read()\n",
    "  del png_reader\n",
    "\n",
    "  bitdepth = info[\"bitdepth\"]\n",
    "  if bitdepth == 8:\n",
    "    dtype = np.uint8\n",
    "  elif bitdepth == 16:\n",
    "    dtype = np.uint16\n",
    "  else:\n",
    "    raise NotImplementedError(f\"Unsupported bitdepth: {bitdepth}\")\n",
    "\n",
    "  plane_count = info[\"planes\"]\n",
    "  pngdata = np.vstack(list(map(dtype, pngdata)))\n",
    "  if rescale_range is not None:\n",
    "    minv, maxv = rescale_range\n",
    "    pngdata = pngdata / 2**bitdepth * (maxv - minv) + minv\n",
    "\n",
    "  return pngdata.reshape((height, width, plane_count))\n",
    "\n",
    "\n",
    "data_dir = '../my_kubric/output/train/00000000/'\n",
    "img = cv2.imread(f'{data_dir}/rgba_00000.png')\n",
    "segm = read_png(f'{data_dir}/segmentation_00000.png')\n",
    "\n",
    "plt.imshow(img)"
   ]
  },
  {
   "cell_type": "code",
   "execution_count": 3,
   "metadata": {},
   "outputs": [
    {
     "data": {
      "text/plain": [
       "array([ 0,  1,  2,  3,  4,  5,  6,  7,  8,  9, 10, 11, 12, 13, 14, 15, 16,\n",
       "       17, 18, 19, 20, 21, 22, 23, 24, 25, 26, 27, 28, 29, 30, 31, 32, 33,\n",
       "       34], dtype=uint8)"
      ]
     },
     "execution_count": 3,
     "metadata": {},
     "output_type": "execute_result"
    }
   ],
   "source": [
    "np.unique(segm)"
   ]
  },
  {
   "cell_type": "code",
   "execution_count": 4,
   "metadata": {},
   "outputs": [
    {
     "data": {
      "text/plain": [
       "<matplotlib.image.AxesImage at 0x7f43fc606190>"
      ]
     },
     "execution_count": 4,
     "metadata": {},
     "output_type": "execute_result"
    },
    {
     "data": {
      "image/png": "[encoded data removed]",
      "text/plain": [
       "<Figure size 640x480 with 1 Axes>"
      ]
     },
     "metadata": {},
     "output_type": "display_data"
    }
   ],
   "source": [
    "import numpy as np\n",
    "unique_ids = np.unique(segm)\n",
    "\n",
    "plt.imshow((segm==unique_ids[1]).astype(np.uint8) * 255, cmap='gray')"
   ]
  },
  {
   "cell_type": "code",
   "execution_count": 6,
   "metadata": {},
   "outputs": [],
   "source": [
    "import json\n",
    "\n",
    "def load_json(file_path):\n",
    "    with open(file_path, 'r') as f:\n",
    "        return json.load(f)\n",
    "    \n",
    "def save_json(file_path, data):\n",
    "    with open(file_path, 'w') as f:\n",
    "        json.dump(data, f)\n",
    "\n",
    "metadata = load_json(f'{data_dir}/metadata.json')"
   ]
  },
  {
   "cell_type": "code",
   "execution_count": 7,
   "metadata": {},
   "outputs": [],
   "source": [
    "from pydantic import BaseModel\n",
    "from typing import List\n",
    "\n",
    "class Instance(BaseModel):\n",
    "    angular_velocities: List[List[float]]\n",
    "    asset_id: str\n",
    "    bbox_frames: List[int]\n",
    "    bboxes: List[List[float]]\n",
    "    bboxes_3d: List[List[List[float]]]\n",
    "    category: str\n",
    "    description: str\n",
    "    friction: float\n",
    "    image_positions: List[List[float]]\n",
    "    mass: float\n",
    "    nr_faces: int\n",
    "    nr_vertices: int\n",
    "    positions: List[List[float]]\n",
    "    quaternions: List[List[float]]\n",
    "    restitution: float\n",
    "    surface_area: float\n",
    "    velocities: List[List[float]]\n",
    "    visibility: List[int]\n",
    "    volume: float\n",
    "\n",
    "    def __str__(self):\n",
    "        return '\\n'.join(f'{k}: {v}' for k, v in self.dict().items())\n",
    "\n",
    "    def __repr__(self):\n",
    "        return '\\n'.join(f'{k}: {v}' for k, v in self.dict().items())\n",
    "    \n",
    "    def get_angle(self):\n",
    "        \"\"\"\n",
    "        Convert quaternion to angle.\n",
    "        Object is rotated around the z-axis, so we only need to consider the z-component of the quaternion.\n",
    "        \"\"\"\n",
    "        # クオータニオンから要素を取り出す\n",
    "        a, _, _, b = self.quaternions[0]\n",
    "\n",
    "        # クオータニオンから角度を取得\n",
    "        angle = 2 * math.atan2(b, a) * -1\n",
    "\n",
    "        # 角度をdegreeに変換\n",
    "        angle = math.degrees(angle)\n",
    "        \n",
    "        return angle\n",
    "\n",
    "        \n",
    "    \n",
    "instances = [Instance(**json_dict) for json_dict in metadata['instances']]"
   ]
  },
  {
   "cell_type": "code",
   "execution_count": 8,
   "metadata": {},
   "outputs": [
    {
     "data": {
      "text/plain": [
       "angular_velocities: [[0.0, 0.0, 0.0]]\n",
       "asset_id: Ecoforms_Garden_Pot_GP16ATurquois\n",
       "bbox_frames: [0]\n",
       "bboxes: [[0.35625, 0.63359375, 0.47291666666666665, 0.72109375]]\n",
       "bboxes_3d: [[[-6.220331923186172, -0.6878192984869516, -3.5797270481197074e-08], [-6.220331923186172, -0.6878192984869516, 2.3726825682897896], [-3.8173730145992346, -0.4423583191165288, -3.5797270481197074e-08], [-3.8173730145992346, -0.4423583191165288, 2.3726825682897896], [-5.97441584517588, -3.09523342978898, -3.5797270481197074e-08], [-5.97441584517588, -3.09523342978898, 2.3726825682897896], [-3.571456936588943, -2.849772450418557, -3.5797270481197074e-08], [-3.571456936588943, -2.849772450418557, 2.3726825682897896]]]\n",
       "category: None\n",
       "description: Ecoforms Garden Pot, GP16A-Turquois\n",
       "friction: 0.5\n",
       "image_positions: [[0.6693840026855469, 0.4163177013397217]]\n",
       "mass: 0.0001597794837694265\n",
       "nr_faces: 9126\n",
       "nr_vertices: 4863\n",
       "positions: [[-4.872437000274658, -1.8053804636001587, 1.2343705892562866]]\n",
       "quaternions: [[-0.7421659827232361, 0.0, 0.0, 0.6702161431312561]]\n",
       "restitution: 0.5\n",
       "surface_area: 0.15844204715384813\n",
       "velocities: [[0.0, 0.0, 0.0]]\n",
       "visibility: [9509]\n",
       "volume: 0.0001597794837694265"
      ]
     },
     "execution_count": 8,
     "metadata": {},
     "output_type": "execute_result"
    }
   ],
   "source": [
    "instances[0]"
   ]
  },
  {
   "cell_type": "code",
   "execution_count": 10,
   "metadata": {},
   "outputs": [
    {
     "data": {
      "text/plain": [
       "array([  0,  58,  67,  76,  86,  94,  95,  97, 100, 104, 107, 111, 112,\n",
       "       116, 130, 133, 145, 146, 148, 151, 152, 155, 159, 162, 164, 169,\n",
       "       173, 182, 187, 191], dtype=uint8)"
      ]
     },
     "execution_count": 10,
     "metadata": {},
     "output_type": "execute_result"
    }
   ],
   "source": [
    "unique_ids"
   ]
  },
  {
   "cell_type": "code",
   "execution_count": 20,
   "metadata": {},
   "outputs": [
    {
     "data": {
      "text/plain": [
       "{'background': 'sunflowers',\n",
       " 'frame_rate': 12,\n",
       " 'gravity': [0.0, 0.0, -10.0],\n",
       " 'num_frames': 1,\n",
       " 'num_instances': 34,\n",
       " 'resolution': [1280, 960],\n",
       " 'seed': 304266624,\n",
       " 'step_rate': 240}"
      ]
     },
     "execution_count": 20,
     "metadata": {},
     "output_type": "execute_result"
    }
   ],
   "source": [
    "metadata['metadata']"
   ]
  },
  {
   "cell_type": "code",
   "execution_count": 9,
   "metadata": {},
   "outputs": [],
   "source": [
    "from models.v2 import build_yolox_backbone\n",
    "from models.yolox_models.darknet import CSPDarknet\n",
    "depth = 0.33\n",
    "width = 0.50\n",
    "model = CSPDarknet(depth, width, out_features=(\"stem\", \"dark2\", \"dark3\", \"dark4\", \"dark5\"))\n",
    "model = model.cuda()\n",
    "model = model.eval()"
   ]
  },
  {
   "cell_type": "code",
   "execution_count": 11,
   "metadata": {},
   "outputs": [],
   "source": [
    "import torch\n",
    "\n",
    "x = torch.randn(1, 3, 640, 640).cuda()\n",
    "with torch.no_grad():\n",
    "    out = model(x)"
   ]
  },
  {
   "cell_type": "code",
   "execution_count": 12,
   "metadata": {},
   "outputs": [
    {
     "data": {
      "text/plain": [
       "[torch.Size([1, 32, 320, 320]),\n",
       " torch.Size([1, 64, 160, 160]),\n",
       " torch.Size([1, 128, 80, 80]),\n",
       " torch.Size([1, 256, 40, 40]),\n",
       " torch.Size([1, 512, 20, 20])]"
      ]
     },
     "execution_count": 12,
     "metadata": {},
     "output_type": "execute_result"
    }
   ],
   "source": [
    "[x.shape for x in out.values()]"
   ]
  },
  {
   "cell_type": "code",
   "execution_count": 2,
   "metadata": {},
   "outputs": [],
   "source": [
    "from pydantic import BaseModel, validator\n",
    "import torch\n",
    "\n",
    "class Input(BaseModel):\n",
    "    support_image: torch.Tensor\n",
    "    support_annotation: torch.Tensor\n",
    "    query_image: torch.Tensor\n",
    "    query_annotation: torch.Tensor\n",
    "\n",
    "    class Config:\n",
    "        arbitrary_types_allowed = True\n",
    "\n",
    "    @validator('support_image', 'query_image')\n",
    "    def validate_shape(cls, v: torch.Tensor):\n",
    "        if v.ndim != 4 or v.shape[0] != 1 or v.shape[1] != 3:\n",
    "            raise ValueError('Tensor must be of shape (1, 3, H, W)')\n",
    "        return v\n",
    "\n",
    "    @validator('support_annotation', 'query_annotation')\n",
    "    def validate_shape(cls, v: torch.Tensor):\n",
    "        if v.ndim != 3 or v.shape[0] != 1 or v.shape[-1] != 5:\n",
    "            raise ValueError('Tensor must be of shape (1, N, 5)')\n",
    "        return v"
   ]
  },
  {
   "cell_type": "code",
   "execution_count": 4,
   "metadata": {},
   "outputs": [
    {
     "ename": "ValidationError",
     "evalue": "1 validation error for Input\nquery_annotation\n  Tensor must be of shape (1, N, 5) (type=value_error)",
     "output_type": "error",
     "traceback": [
      "\u001b[0;31m---------------------------------------------------------------------------\u001b[0m",
      "\u001b[0;31mValidationError\u001b[0m                           Traceback (most recent call last)",
      "\u001b[0;32m/tmp/ipykernel_579/2347853074.py\u001b[0m in \u001b[0;36m<module>\u001b[0;34m\u001b[0m\n\u001b[1;32m      3\u001b[0m     \u001b[0msupport_annotation\u001b[0m\u001b[0;34m=\u001b[0m\u001b[0mtorch\u001b[0m\u001b[0;34m.\u001b[0m\u001b[0mrandn\u001b[0m\u001b[0;34m(\u001b[0m\u001b[0;36m1\u001b[0m\u001b[0;34m,\u001b[0m \u001b[0;36m1\u001b[0m\u001b[0;34m,\u001b[0m \u001b[0;36m5\u001b[0m\u001b[0;34m)\u001b[0m\u001b[0;34m,\u001b[0m\u001b[0;34m\u001b[0m\u001b[0;34m\u001b[0m\u001b[0m\n\u001b[1;32m      4\u001b[0m     \u001b[0mquery_image\u001b[0m\u001b[0;34m=\u001b[0m\u001b[0mtorch\u001b[0m\u001b[0;34m.\u001b[0m\u001b[0mrandn\u001b[0m\u001b[0;34m(\u001b[0m\u001b[0;36m1\u001b[0m\u001b[0;34m,\u001b[0m \u001b[0;36m3\u001b[0m\u001b[0;34m,\u001b[0m \u001b[0;36m640\u001b[0m\u001b[0;34m,\u001b[0m \u001b[0;36m640\u001b[0m\u001b[0;34m)\u001b[0m\u001b[0;34m,\u001b[0m\u001b[0;34m\u001b[0m\u001b[0;34m\u001b[0m\u001b[0m\n\u001b[0;32m----> 5\u001b[0;31m     \u001b[0mquery_annotation\u001b[0m\u001b[0;34m=\u001b[0m\u001b[0mtorch\u001b[0m\u001b[0;34m.\u001b[0m\u001b[0mrandn\u001b[0m\u001b[0;34m(\u001b[0m\u001b[0;36m1\u001b[0m\u001b[0;34m,\u001b[0m \u001b[0;36m1\u001b[0m\u001b[0;34m,\u001b[0m \u001b[0;36m6\u001b[0m\u001b[0;34m)\u001b[0m\u001b[0;34m,\u001b[0m\u001b[0;34m\u001b[0m\u001b[0;34m\u001b[0m\u001b[0m\n\u001b[0m\u001b[1;32m      6\u001b[0m )\n",
      "\u001b[0;32m/opt/conda/lib/python3.7/site-packages/pydantic/main.cpython-37m-x86_64-linux-gnu.so\u001b[0m in \u001b[0;36mpydantic.main.BaseModel.__init__\u001b[0;34m()\u001b[0m\n",
      "\u001b[0;31mValidationError\u001b[0m: 1 validation error for Input\nquery_annotation\n  Tensor must be of shape (1, N, 5) (type=value_error)"
     ]
    }
   ],
   "source": [
    "image_input = Input(\n",
    "    support_image=torch.randn(1, 3, 640, 640),\n",
    "    support_annotation=torch.randn(1, 1, 5),\n",
    "    query_image=torch.randn(1, 3, 640, 640),\n",
    "    query_annotation=torch.randn(1, 1, 5),\n",
    ")"
   ]
  },
  {
   "cell_type": "code",
   "execution_count": 8,
   "metadata": {},
   "outputs": [
    {
     "name": "stdout",
     "output_type": "stream",
     "text": [
      "torch.Size([1, 216, 5])\n",
      "torch.Size([1, 216])\n"
     ]
    }
   ],
   "source": [
    "B, N, _ = image_input.query_annotation.shape\n",
    "query_labels = torch.zeros((B, N), dtype=torch.long)\n",
    "\n",
    "# augment positive samples\n",
    "all_query_annotations = []\n",
    "all_query_labels = []\n",
    "for dx in [-1, 0, -1]:\n",
    "    for dy in [-1, 0, -1]:\n",
    "        query_annotations = image_input.query_annotation.clone()\n",
    "        query_labels = torch.ones((B, N), dtype=torch.long)\n",
    "        query_annotations[..., 0] += dx\n",
    "        query_annotations[..., 1] += dy\n",
    "        all_query_annotations.append(query_annotations)\n",
    "        all_query_labels.append(query_labels)\n",
    "\n",
    "query_annotations = torch.cat(all_query_annotations, dim=1)\n",
    "query_labels = torch.cat(all_query_labels, dim=1)\n",
    "\n",
    "# generate negative samples\n",
    "all_query_annotations = [query_annotations.clone()]\n",
    "all_query_labels = [query_labels.clone()]\n",
    "for da in range(15, 360, 15):\n",
    "    query_annotations = query_annotations.clone()\n",
    "    query_labels = torch.zeros_like(query_labels)\n",
    "    query_annotations[..., 4] += da\n",
    "    all_query_annotations.append(query_annotations)\n",
    "    all_query_labels.append(query_labels)\n",
    "\n",
    "query_annotations = torch.cat(all_query_annotations, dim=1)\n",
    "query_labels = torch.cat(all_query_labels, dim=1)\n",
    "\n",
    "print(query_annotations.shape)\n",
    "print(query_labels.shape)"
   ]
  },
  {
   "cell_type": "code",
   "execution_count": 1,
   "metadata": {},
   "outputs": [
    {
     "ename": "ModuleNotFoundError",
     "evalue": "No module named 'roi_align'",
     "output_type": "error",
     "traceback": [
      "\u001b[0;31m---------------------------------------------------------------------------\u001b[0m",
      "\u001b[0;31mModuleNotFoundError\u001b[0m                       Traceback (most recent call last)",
      "\u001b[0;32m/tmp/ipykernel_17364/296405129.py\u001b[0m in \u001b[0;36m<module>\u001b[0;34m\u001b[0m\n\u001b[0;32m----> 1\u001b[0;31m \u001b[0;32mfrom\u001b[0m \u001b[0mroi_align\u001b[0m \u001b[0;32mimport\u001b[0m \u001b[0mRoIAlignFeatureExtractor\u001b[0m\u001b[0;34m\u001b[0m\u001b[0;34m\u001b[0m\u001b[0m\n\u001b[0m\u001b[1;32m      2\u001b[0m \u001b[0;34m\u001b[0m\u001b[0m\n\u001b[1;32m      3\u001b[0m \u001b[0msupport_width\u001b[0m\u001b[0;34m,\u001b[0m \u001b[0msupport_height\u001b[0m \u001b[0;34m=\u001b[0m \u001b[0;36m10\u001b[0m\u001b[0;34m,\u001b[0m \u001b[0;36m10\u001b[0m\u001b[0;34m\u001b[0m\u001b[0;34m\u001b[0m\u001b[0m\n\u001b[1;32m      4\u001b[0m \u001b[0mroi_feature_extractor\u001b[0m \u001b[0;34m=\u001b[0m \u001b[0mRoIAlignFeatureExtractor\u001b[0m\u001b[0;34m(\u001b[0m\u001b[0moutput_size\u001b[0m\u001b[0;34m=\u001b[0m\u001b[0;34m(\u001b[0m\u001b[0msupport_width\u001b[0m\u001b[0;34m,\u001b[0m \u001b[0msupport_height\u001b[0m\u001b[0;34m)\u001b[0m\u001b[0;34m,\u001b[0m \u001b[0msampling_ratio\u001b[0m\u001b[0;34m=\u001b[0m\u001b[0;36m2\u001b[0m\u001b[0;34m)\u001b[0m\u001b[0;34m\u001b[0m\u001b[0;34m\u001b[0m\u001b[0m\n\u001b[1;32m      5\u001b[0m \u001b[0mtemplate_image\u001b[0m \u001b[0;34m=\u001b[0m \u001b[0mroi_feature_extractor\u001b[0m\u001b[0;34m.\u001b[0m\u001b[0mextract\u001b[0m\u001b[0;34m(\u001b[0m\u001b[0mimage_input\u001b[0m\u001b[0;34m.\u001b[0m\u001b[0msupport_image\u001b[0m\u001b[0;34m,\u001b[0m \u001b[0mimage_input\u001b[0m\u001b[0;34m.\u001b[0m\u001b[0msupport_annotation\u001b[0m\u001b[0;34m,\u001b[0m \u001b[0mspatial_scale\u001b[0m\u001b[0;34m=\u001b[0m\u001b[0;36m1.0\u001b[0m\u001b[0;34m)\u001b[0m\u001b[0;34m\u001b[0m\u001b[0;34m\u001b[0m\u001b[0m\n",
      "\u001b[0;31mModuleNotFoundError\u001b[0m: No module named 'roi_align'"
     ]
    }
   ],
   "source": [
    "from roi_align import RoIAlignFeatureExtractor\n",
    "\n",
    "support_width, support_height = 10, 10\n",
    "roi_feature_extractor = RoIAlignFeatureExtractor(output_size=(support_width, support_height), sampling_ratio=2)\n",
    "template_image = roi_feature_extractor.extract(image_input.support_image, image_input.support_annotation, spatial_scale=1.0)"
   ]
  },
  {
   "cell_type": "code",
   "execution_count": null,
   "metadata": {},
   "outputs": [],
   "source": []
  }
 ],
 "metadata": {
  "kernelspec": {
   "display_name": "base",
   "language": "python",
   "name": "python3"
  },
  "language_info": {
   "codemirror_mode": {
    "name": "ipython",
    "version": 3
   },
   "file_extension": ".py",
   "mimetype": "text/x-python",
   "name": "python",
   "nbconvert_exporter": "python",
   "pygments_lexer": "ipython3",
   "version": "3.7.12"
  },
  "orig_nbformat": 4,
  "vscode": {
   "interpreter": {
    "hash": "d4d1e4263499bec80672ea0156c357c1ee493ec2b1c70f0acce89fc37c4a6abe"
   }
  }
 },
 "nbformat": 4,
 "nbformat_minor": 2
}
